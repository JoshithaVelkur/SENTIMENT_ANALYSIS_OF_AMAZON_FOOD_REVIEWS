{
  "nbformat": 4,
  "nbformat_minor": 0,
  "metadata": {
    "kernelspec": {
      "display_name": "Python 2",
      "language": "python",
      "name": "python2"
    },
    "language_info": {
      "codemirror_mode": {
        "name": "ipython",
        "version": 2
      },
      "file_extension": ".py",
      "mimetype": "text/x-python",
      "name": "python",
      "nbconvert_exporter": "python",
      "pygments_lexer": "ipython2",
      "version": "2.7.13"
    },
    "colab": {
      "name": "Model_Building.ipynb",
      "provenance": []
    }
  },
  "cells": [
    {
      "cell_type": "markdown",
      "metadata": {
        "id": "N2iI4iXFRdH5"
      },
      "source": [
        "# Sentiment Analysis of Amazon Food Reviews Prediction Model"
      ]
    },
    {
      "cell_type": "markdown",
      "metadata": {
        "id": "fF1g9I1CRdIH"
      },
      "source": [
        "<b>Data Fields Explanation</b><br />\n",
        "\n",
        "The Amazon Fine Food Reviews dataset consists of 568,454 food reviews. This dataset consists of a single CSV file, Reviews.csv. The columns in the table are:\n",
        "<pre>\n",
        "    Id - Unique row number\n",
        "    ProductId - unique identifier for the product\n",
        "    UserId - unqiue identifier for the user\n",
        "    ProfileName\n",
        "    HelpfulnessNumerator - number of users who found the review helpful\n",
        "    HelpfulnessDenominator - number of users who indicated whether they found the review helpful\n",
        "    Score - rating between 1 and 5\n",
        "    Time - timestamp for the review\n",
        "    Summary - brief summary of the review\n",
        "    Text - text of the review\n",
        "</pre>"
      ]
    },
    {
      "cell_type": "markdown",
      "metadata": {
        "id": "H-X_8-jhRdIL"
      },
      "source": [
        "We will built a model on this data using <b>NAIVE BAYES</b>. Let's do everything step by step.\n",
        "<pre>\n",
        "    <b>STEP-1:</b> Copy the data in Pandas DataFrame and drop unwanted columns.\n",
        "    <b>STEP-2:</b> Text Preprocessing.\n",
        "    <b>STEP-3:</b> Vectorizing out Data Set\n",
        "    <b>STEP-4:</b> Building and evaluating the model\n",
        "</pre>"
      ]
    },
    {
      "cell_type": "markdown",
      "metadata": {
        "id": "kefGWPwVRdIN"
      },
      "source": [
        "## STEP-1: Reading the data and removing unwanted columns"
      ]
    },
    {
      "cell_type": "code",
      "metadata": {
        "id": "DLEK75VeRdIP",
        "outputId": "940a2828-5016-4630-d4a0-ec725101fbb6"
      },
      "source": [
        "#Let's import pandas to read the csv file.\n",
        "import pandas as pd\n",
        "dataset = pd.read_csv(\"Reviews.csv\")\n",
        "dataset.head()"
      ],
      "execution_count": null,
      "outputs": [
        {
          "data": {
            "text/html": [
              "<div>\n",
              "<style>\n",
              "    .dataframe thead tr:only-child th {\n",
              "        text-align: right;\n",
              "    }\n",
              "\n",
              "    .dataframe thead th {\n",
              "        text-align: left;\n",
              "    }\n",
              "\n",
              "    .dataframe tbody tr th {\n",
              "        vertical-align: top;\n",
              "    }\n",
              "</style>\n",
              "<table border=\"1\" class=\"dataframe\">\n",
              "  <thead>\n",
              "    <tr style=\"text-align: right;\">\n",
              "      <th></th>\n",
              "      <th>Id</th>\n",
              "      <th>ProductId</th>\n",
              "      <th>UserId</th>\n",
              "      <th>ProfileName</th>\n",
              "      <th>HelpfulnessNumerator</th>\n",
              "      <th>HelpfulnessDenominator</th>\n",
              "      <th>Score</th>\n",
              "      <th>Time</th>\n",
              "      <th>Summary</th>\n",
              "      <th>Text</th>\n",
              "    </tr>\n",
              "  </thead>\n",
              "  <tbody>\n",
              "    <tr>\n",
              "      <th>0</th>\n",
              "      <td>1</td>\n",
              "      <td>B001E4KFG0</td>\n",
              "      <td>A3SGXH7AUHU8GW</td>\n",
              "      <td>delmartian</td>\n",
              "      <td>1</td>\n",
              "      <td>1</td>\n",
              "      <td>5</td>\n",
              "      <td>1303862400</td>\n",
              "      <td>Good Quality Dog Food</td>\n",
              "      <td>I have bought several of the Vitality canned d...</td>\n",
              "    </tr>\n",
              "    <tr>\n",
              "      <th>1</th>\n",
              "      <td>2</td>\n",
              "      <td>B00813GRG4</td>\n",
              "      <td>A1D87F6ZCVE5NK</td>\n",
              "      <td>dll pa</td>\n",
              "      <td>0</td>\n",
              "      <td>0</td>\n",
              "      <td>1</td>\n",
              "      <td>1346976000</td>\n",
              "      <td>Not as Advertised</td>\n",
              "      <td>Product arrived labeled as Jumbo Salted Peanut...</td>\n",
              "    </tr>\n",
              "    <tr>\n",
              "      <th>2</th>\n",
              "      <td>3</td>\n",
              "      <td>B000LQOCH0</td>\n",
              "      <td>ABXLMWJIXXAIN</td>\n",
              "      <td>Natalia Corres \"Natalia Corres\"</td>\n",
              "      <td>1</td>\n",
              "      <td>1</td>\n",
              "      <td>4</td>\n",
              "      <td>1219017600</td>\n",
              "      <td>\"Delight\" says it all</td>\n",
              "      <td>This is a confection that has been around a fe...</td>\n",
              "    </tr>\n",
              "    <tr>\n",
              "      <th>3</th>\n",
              "      <td>4</td>\n",
              "      <td>B000UA0QIQ</td>\n",
              "      <td>A395BORC6FGVXV</td>\n",
              "      <td>Karl</td>\n",
              "      <td>3</td>\n",
              "      <td>3</td>\n",
              "      <td>2</td>\n",
              "      <td>1307923200</td>\n",
              "      <td>Cough Medicine</td>\n",
              "      <td>If you are looking for the secret ingredient i...</td>\n",
              "    </tr>\n",
              "    <tr>\n",
              "      <th>4</th>\n",
              "      <td>5</td>\n",
              "      <td>B006K2ZZ7K</td>\n",
              "      <td>A1UQRSCLF8GW1T</td>\n",
              "      <td>Michael D. Bigham \"M. Wassir\"</td>\n",
              "      <td>0</td>\n",
              "      <td>0</td>\n",
              "      <td>5</td>\n",
              "      <td>1350777600</td>\n",
              "      <td>Great taffy</td>\n",
              "      <td>Great taffy at a great price.  There was a wid...</td>\n",
              "    </tr>\n",
              "  </tbody>\n",
              "</table>\n",
              "</div>"
            ],
            "text/plain": [
              "   Id   ProductId          UserId                      ProfileName  \\\n",
              "0   1  B001E4KFG0  A3SGXH7AUHU8GW                       delmartian   \n",
              "1   2  B00813GRG4  A1D87F6ZCVE5NK                           dll pa   \n",
              "2   3  B000LQOCH0   ABXLMWJIXXAIN  Natalia Corres \"Natalia Corres\"   \n",
              "3   4  B000UA0QIQ  A395BORC6FGVXV                             Karl   \n",
              "4   5  B006K2ZZ7K  A1UQRSCLF8GW1T    Michael D. Bigham \"M. Wassir\"   \n",
              "\n",
              "   HelpfulnessNumerator  HelpfulnessDenominator  Score        Time  \\\n",
              "0                     1                       1      5  1303862400   \n",
              "1                     0                       0      1  1346976000   \n",
              "2                     1                       1      4  1219017600   \n",
              "3                     3                       3      2  1307923200   \n",
              "4                     0                       0      5  1350777600   \n",
              "\n",
              "                 Summary                                               Text  \n",
              "0  Good Quality Dog Food  I have bought several of the Vitality canned d...  \n",
              "1      Not as Advertised  Product arrived labeled as Jumbo Salted Peanut...  \n",
              "2  \"Delight\" says it all  This is a confection that has been around a fe...  \n",
              "3         Cough Medicine  If you are looking for the secret ingredient i...  \n",
              "4            Great taffy  Great taffy at a great price.  There was a wid...  "
            ]
          },
          "execution_count": 1,
          "metadata": {},
          "output_type": "execute_result"
        }
      ]
    },
    {
      "cell_type": "code",
      "metadata": {
        "id": "KQpCBRr1RdIW",
        "outputId": "f973b906-3a1a-4518-a909-573240631266"
      },
      "source": [
        "#Here we will sort the dataframe according to 'Time' feature\n",
        "dataset.sort_values(['Time'], ascending=True, inplace=True)\n",
        "dataset.head()"
      ],
      "execution_count": null,
      "outputs": [
        {
          "data": {
            "text/html": [
              "<div>\n",
              "<style>\n",
              "    .dataframe thead tr:only-child th {\n",
              "        text-align: right;\n",
              "    }\n",
              "\n",
              "    .dataframe thead th {\n",
              "        text-align: left;\n",
              "    }\n",
              "\n",
              "    .dataframe tbody tr th {\n",
              "        vertical-align: top;\n",
              "    }\n",
              "</style>\n",
              "<table border=\"1\" class=\"dataframe\">\n",
              "  <thead>\n",
              "    <tr style=\"text-align: right;\">\n",
              "      <th></th>\n",
              "      <th>Id</th>\n",
              "      <th>ProductId</th>\n",
              "      <th>UserId</th>\n",
              "      <th>ProfileName</th>\n",
              "      <th>HelpfulnessNumerator</th>\n",
              "      <th>HelpfulnessDenominator</th>\n",
              "      <th>Score</th>\n",
              "      <th>Time</th>\n",
              "      <th>Summary</th>\n",
              "      <th>Text</th>\n",
              "    </tr>\n",
              "  </thead>\n",
              "  <tbody>\n",
              "    <tr>\n",
              "      <th>150523</th>\n",
              "      <td>150524</td>\n",
              "      <td>0006641040</td>\n",
              "      <td>ACITT7DI6IDDL</td>\n",
              "      <td>shari zychinski</td>\n",
              "      <td>0</td>\n",
              "      <td>0</td>\n",
              "      <td>5</td>\n",
              "      <td>939340800</td>\n",
              "      <td>EVERY book is educational</td>\n",
              "      <td>this witty little book makes my son laugh at l...</td>\n",
              "    </tr>\n",
              "    <tr>\n",
              "      <th>150500</th>\n",
              "      <td>150501</td>\n",
              "      <td>0006641040</td>\n",
              "      <td>AJ46FKXOVC7NR</td>\n",
              "      <td>Nicholas A Mesiano</td>\n",
              "      <td>2</td>\n",
              "      <td>2</td>\n",
              "      <td>5</td>\n",
              "      <td>940809600</td>\n",
              "      <td>This whole series is great way to spend time w...</td>\n",
              "      <td>I can remember seeing the show when it aired o...</td>\n",
              "    </tr>\n",
              "    <tr>\n",
              "      <th>451855</th>\n",
              "      <td>451856</td>\n",
              "      <td>B00004CXX9</td>\n",
              "      <td>AIUWLEQ1ADEG5</td>\n",
              "      <td>Elizabeth Medina</td>\n",
              "      <td>0</td>\n",
              "      <td>0</td>\n",
              "      <td>5</td>\n",
              "      <td>944092800</td>\n",
              "      <td>Entertainingl Funny!</td>\n",
              "      <td>Beetlejuice is a well written movie ..... ever...</td>\n",
              "    </tr>\n",
              "    <tr>\n",
              "      <th>230284</th>\n",
              "      <td>230285</td>\n",
              "      <td>B00004RYGX</td>\n",
              "      <td>A344SMIA5JECGM</td>\n",
              "      <td>Vincent P. Ross</td>\n",
              "      <td>1</td>\n",
              "      <td>2</td>\n",
              "      <td>5</td>\n",
              "      <td>944438400</td>\n",
              "      <td>A modern day fairy tale</td>\n",
              "      <td>A twist of rumplestiskin captured on film, sta...</td>\n",
              "    </tr>\n",
              "    <tr>\n",
              "      <th>451877</th>\n",
              "      <td>451878</td>\n",
              "      <td>B00004CXX9</td>\n",
              "      <td>A344SMIA5JECGM</td>\n",
              "      <td>Vincent P. Ross</td>\n",
              "      <td>1</td>\n",
              "      <td>2</td>\n",
              "      <td>5</td>\n",
              "      <td>944438400</td>\n",
              "      <td>A modern day fairy tale</td>\n",
              "      <td>A twist of rumplestiskin captured on film, sta...</td>\n",
              "    </tr>\n",
              "  </tbody>\n",
              "</table>\n",
              "</div>"
            ],
            "text/plain": [
              "            Id   ProductId          UserId         ProfileName  \\\n",
              "150523  150524  0006641040   ACITT7DI6IDDL     shari zychinski   \n",
              "150500  150501  0006641040   AJ46FKXOVC7NR  Nicholas A Mesiano   \n",
              "451855  451856  B00004CXX9   AIUWLEQ1ADEG5    Elizabeth Medina   \n",
              "230284  230285  B00004RYGX  A344SMIA5JECGM     Vincent P. Ross   \n",
              "451877  451878  B00004CXX9  A344SMIA5JECGM     Vincent P. Ross   \n",
              "\n",
              "        HelpfulnessNumerator  HelpfulnessDenominator  Score       Time  \\\n",
              "150523                     0                       0      5  939340800   \n",
              "150500                     2                       2      5  940809600   \n",
              "451855                     0                       0      5  944092800   \n",
              "230284                     1                       2      5  944438400   \n",
              "451877                     1                       2      5  944438400   \n",
              "\n",
              "                                                  Summary  \\\n",
              "150523                          EVERY book is educational   \n",
              "150500  This whole series is great way to spend time w...   \n",
              "451855                               Entertainingl Funny!   \n",
              "230284                            A modern day fairy tale   \n",
              "451877                            A modern day fairy tale   \n",
              "\n",
              "                                                     Text  \n",
              "150523  this witty little book makes my son laugh at l...  \n",
              "150500  I can remember seeing the show when it aired o...  \n",
              "451855  Beetlejuice is a well written movie ..... ever...  \n",
              "230284  A twist of rumplestiskin captured on film, sta...  \n",
              "451877  A twist of rumplestiskin captured on film, sta...  "
            ]
          },
          "execution_count": 2,
          "metadata": {},
          "output_type": "execute_result"
        }
      ]
    },
    {
      "cell_type": "code",
      "metadata": {
        "scrolled": true,
        "id": "9mKwU1YaRdIb",
        "outputId": "ee361c76-4360-4910-d649-fec9648af23d"
      },
      "source": [
        "#Dropping the unwanted columns from our data frame.\n",
        "dataset.drop(\"Id\", inplace=True, axis=1)\n",
        "dataset.drop(\"ProductId\", inplace=True, axis=1)\n",
        "dataset.drop(\"ProfileName\", inplace=True, axis=1)\n",
        "dataset.drop(\"HelpfulnessNumerator\", inplace=True, axis=1)\n",
        "dataset.drop(\"HelpfulnessDenominator\", inplace=True, axis=1)\n",
        "dataset.drop(\"Time\", inplace=True, axis=1)\n",
        "dataset.head()"
      ],
      "execution_count": null,
      "outputs": [
        {
          "data": {
            "text/html": [
              "<div>\n",
              "<style>\n",
              "    .dataframe thead tr:only-child th {\n",
              "        text-align: right;\n",
              "    }\n",
              "\n",
              "    .dataframe thead th {\n",
              "        text-align: left;\n",
              "    }\n",
              "\n",
              "    .dataframe tbody tr th {\n",
              "        vertical-align: top;\n",
              "    }\n",
              "</style>\n",
              "<table border=\"1\" class=\"dataframe\">\n",
              "  <thead>\n",
              "    <tr style=\"text-align: right;\">\n",
              "      <th></th>\n",
              "      <th>UserId</th>\n",
              "      <th>Score</th>\n",
              "      <th>Summary</th>\n",
              "      <th>Text</th>\n",
              "    </tr>\n",
              "  </thead>\n",
              "  <tbody>\n",
              "    <tr>\n",
              "      <th>150523</th>\n",
              "      <td>ACITT7DI6IDDL</td>\n",
              "      <td>5</td>\n",
              "      <td>EVERY book is educational</td>\n",
              "      <td>this witty little book makes my son laugh at l...</td>\n",
              "    </tr>\n",
              "    <tr>\n",
              "      <th>150500</th>\n",
              "      <td>AJ46FKXOVC7NR</td>\n",
              "      <td>5</td>\n",
              "      <td>This whole series is great way to spend time w...</td>\n",
              "      <td>I can remember seeing the show when it aired o...</td>\n",
              "    </tr>\n",
              "    <tr>\n",
              "      <th>451855</th>\n",
              "      <td>AIUWLEQ1ADEG5</td>\n",
              "      <td>5</td>\n",
              "      <td>Entertainingl Funny!</td>\n",
              "      <td>Beetlejuice is a well written movie ..... ever...</td>\n",
              "    </tr>\n",
              "    <tr>\n",
              "      <th>230284</th>\n",
              "      <td>A344SMIA5JECGM</td>\n",
              "      <td>5</td>\n",
              "      <td>A modern day fairy tale</td>\n",
              "      <td>A twist of rumplestiskin captured on film, sta...</td>\n",
              "    </tr>\n",
              "    <tr>\n",
              "      <th>451877</th>\n",
              "      <td>A344SMIA5JECGM</td>\n",
              "      <td>5</td>\n",
              "      <td>A modern day fairy tale</td>\n",
              "      <td>A twist of rumplestiskin captured on film, sta...</td>\n",
              "    </tr>\n",
              "  </tbody>\n",
              "</table>\n",
              "</div>"
            ],
            "text/plain": [
              "                UserId  Score  \\\n",
              "150523   ACITT7DI6IDDL      5   \n",
              "150500   AJ46FKXOVC7NR      5   \n",
              "451855   AIUWLEQ1ADEG5      5   \n",
              "230284  A344SMIA5JECGM      5   \n",
              "451877  A344SMIA5JECGM      5   \n",
              "\n",
              "                                                  Summary  \\\n",
              "150523                          EVERY book is educational   \n",
              "150500  This whole series is great way to spend time w...   \n",
              "451855                               Entertainingl Funny!   \n",
              "230284                            A modern day fairy tale   \n",
              "451877                            A modern day fairy tale   \n",
              "\n",
              "                                                     Text  \n",
              "150523  this witty little book makes my son laugh at l...  \n",
              "150500  I can remember seeing the show when it aired o...  \n",
              "451855  Beetlejuice is a well written movie ..... ever...  \n",
              "230284  A twist of rumplestiskin captured on film, sta...  \n",
              "451877  A twist of rumplestiskin captured on film, sta...  "
            ]
          },
          "execution_count": 3,
          "metadata": {},
          "output_type": "execute_result"
        }
      ]
    },
    {
      "cell_type": "code",
      "metadata": {
        "collapsed": true,
        "id": "jNxczgT3RdIe"
      },
      "source": [
        "#Make all 'Score' less than 3 equal to -ve class and \n",
        "# 'Score' greater than 3 equal to +ve class.\n",
        "dataset.loc[dataset['Score']<3, 'Score'] = [0]\n",
        "dataset.loc[dataset['Score']>3, 'Score'] = [1]"
      ],
      "execution_count": null,
      "outputs": []
    },
    {
      "cell_type": "code",
      "metadata": {
        "scrolled": true,
        "id": "KiZLo7YBRdIg",
        "outputId": "111ce73a-3b35-4c71-951b-2c8a6dfca4ec"
      },
      "source": [
        "dataset.head()"
      ],
      "execution_count": null,
      "outputs": [
        {
          "data": {
            "text/html": [
              "<div>\n",
              "<style>\n",
              "    .dataframe thead tr:only-child th {\n",
              "        text-align: right;\n",
              "    }\n",
              "\n",
              "    .dataframe thead th {\n",
              "        text-align: left;\n",
              "    }\n",
              "\n",
              "    .dataframe tbody tr th {\n",
              "        vertical-align: top;\n",
              "    }\n",
              "</style>\n",
              "<table border=\"1\" class=\"dataframe\">\n",
              "  <thead>\n",
              "    <tr style=\"text-align: right;\">\n",
              "      <th></th>\n",
              "      <th>UserId</th>\n",
              "      <th>Score</th>\n",
              "      <th>Summary</th>\n",
              "      <th>Text</th>\n",
              "    </tr>\n",
              "  </thead>\n",
              "  <tbody>\n",
              "    <tr>\n",
              "      <th>150523</th>\n",
              "      <td>ACITT7DI6IDDL</td>\n",
              "      <td>1</td>\n",
              "      <td>EVERY book is educational</td>\n",
              "      <td>this witty little book makes my son laugh at l...</td>\n",
              "    </tr>\n",
              "    <tr>\n",
              "      <th>150500</th>\n",
              "      <td>AJ46FKXOVC7NR</td>\n",
              "      <td>1</td>\n",
              "      <td>This whole series is great way to spend time w...</td>\n",
              "      <td>I can remember seeing the show when it aired o...</td>\n",
              "    </tr>\n",
              "    <tr>\n",
              "      <th>451855</th>\n",
              "      <td>AIUWLEQ1ADEG5</td>\n",
              "      <td>1</td>\n",
              "      <td>Entertainingl Funny!</td>\n",
              "      <td>Beetlejuice is a well written movie ..... ever...</td>\n",
              "    </tr>\n",
              "    <tr>\n",
              "      <th>230284</th>\n",
              "      <td>A344SMIA5JECGM</td>\n",
              "      <td>1</td>\n",
              "      <td>A modern day fairy tale</td>\n",
              "      <td>A twist of rumplestiskin captured on film, sta...</td>\n",
              "    </tr>\n",
              "    <tr>\n",
              "      <th>451877</th>\n",
              "      <td>A344SMIA5JECGM</td>\n",
              "      <td>1</td>\n",
              "      <td>A modern day fairy tale</td>\n",
              "      <td>A twist of rumplestiskin captured on film, sta...</td>\n",
              "    </tr>\n",
              "  </tbody>\n",
              "</table>\n",
              "</div>"
            ],
            "text/plain": [
              "                UserId  Score  \\\n",
              "150523   ACITT7DI6IDDL      1   \n",
              "150500   AJ46FKXOVC7NR      1   \n",
              "451855   AIUWLEQ1ADEG5      1   \n",
              "230284  A344SMIA5JECGM      1   \n",
              "451877  A344SMIA5JECGM      1   \n",
              "\n",
              "                                                  Summary  \\\n",
              "150523                          EVERY book is educational   \n",
              "150500  This whole series is great way to spend time w...   \n",
              "451855                               Entertainingl Funny!   \n",
              "230284                            A modern day fairy tale   \n",
              "451877                            A modern day fairy tale   \n",
              "\n",
              "                                                     Text  \n",
              "150523  this witty little book makes my son laugh at l...  \n",
              "150500  I can remember seeing the show when it aired o...  \n",
              "451855  Beetlejuice is a well written movie ..... ever...  \n",
              "230284  A twist of rumplestiskin captured on film, sta...  \n",
              "451877  A twist of rumplestiskin captured on film, sta...  "
            ]
          },
          "execution_count": 5,
          "metadata": {},
          "output_type": "execute_result"
        }
      ]
    },
    {
      "cell_type": "code",
      "metadata": {
        "collapsed": true,
        "id": "r_vTGXjdRdIj"
      },
      "source": [
        "#import numpy as np\n",
        "#from sklearn.model_selection import train_test_split\n",
        "#train, test = train_test_split(dataset, test_size = 0.3)\n",
        "\n",
        "total_size=len(dataset)\n",
        "\n",
        "train_size=int(0.70*total_size)\n",
        "\n",
        "#training dataset\n",
        "train=dataset.head(train_size)\n",
        "#test dataset\n",
        "test=dataset.tail(total_size - train_size)"
      ],
      "execution_count": null,
      "outputs": []
    },
    {
      "cell_type": "code",
      "metadata": {
        "id": "f-onGA1NRdIl",
        "outputId": "c4b85ffd-9641-4ca3-df38-32f5cb438c65"
      },
      "source": [
        "train.Score.value_counts()"
      ],
      "execution_count": null,
      "outputs": [
        {
          "data": {
            "text/plain": [
              "1    313696\n",
              "0     55168\n",
              "3     29053\n",
              "Name: Score, dtype: int64"
            ]
          },
          "execution_count": 7,
          "metadata": {},
          "output_type": "execute_result"
        }
      ]
    },
    {
      "cell_type": "code",
      "metadata": {
        "id": "7HxK4N7jRdIn",
        "outputId": "84be351e-6c16-4fa5-e51f-417856aeca42"
      },
      "source": [
        "test.Score.value_counts()"
      ],
      "execution_count": null,
      "outputs": [
        {
          "data": {
            "text/plain": [
              "1    130081\n",
              "0     26869\n",
              "3     13587\n",
              "Name: Score, dtype: int64"
            ]
          },
          "execution_count": 8,
          "metadata": {},
          "output_type": "execute_result"
        }
      ]
    },
    {
      "cell_type": "code",
      "metadata": {
        "collapsed": true,
        "id": "jdGH7xOoRdIo"
      },
      "source": [
        "# Removing all rows where 'Score' is equal to 3\n",
        "train = train[train.Score != 3]\n",
        "test = test[test.Score != 3]"
      ],
      "execution_count": null,
      "outputs": []
    },
    {
      "cell_type": "code",
      "metadata": {
        "id": "vq9m29g4RdIq",
        "outputId": "c52c5516-2118-4f5c-dbe0-f96dfb51053e"
      },
      "source": [
        "print(train.shape)\n",
        "print(test.shape)"
      ],
      "execution_count": null,
      "outputs": [
        {
          "name": "stdout",
          "output_type": "stream",
          "text": [
            "(368864, 4)\n",
            "(156950, 4)\n"
          ]
        }
      ]
    },
    {
      "cell_type": "code",
      "metadata": {
        "scrolled": true,
        "id": "Uj3ruLa2RdIr",
        "outputId": "5b9bb98a-a871-4e18-f50f-8bd04b2d7caa"
      },
      "source": [
        "train['Score'].value_counts()"
      ],
      "execution_count": null,
      "outputs": [
        {
          "data": {
            "text/plain": [
              "1    313696\n",
              "0     55168\n",
              "Name: Score, dtype: int64"
            ]
          },
          "execution_count": 11,
          "metadata": {},
          "output_type": "execute_result"
        }
      ]
    },
    {
      "cell_type": "code",
      "metadata": {
        "id": "ExADlbctRdIs",
        "outputId": "04557c8f-fcc6-4de7-dc51-18d7b0f8eace"
      },
      "source": [
        "test.Score.value_counts()"
      ],
      "execution_count": null,
      "outputs": [
        {
          "data": {
            "text/plain": [
              "1    130081\n",
              "0     26869\n",
              "Name: Score, dtype: int64"
            ]
          },
          "execution_count": 12,
          "metadata": {},
          "output_type": "execute_result"
        }
      ]
    },
    {
      "cell_type": "markdown",
      "metadata": {
        "id": "KJBwiC_jRdIt"
      },
      "source": [
        "## STEP-2: Text Preprocessing"
      ]
    },
    {
      "cell_type": "markdown",
      "metadata": {
        "id": "imh1QXlcRdIu"
      },
      "source": [
        "Text preprocessing will further contain a sequence of steps:\n",
        "    1. Converting to lower-case.\n",
        "    2. Removing HTML Tags.\n",
        "    3. Removing Special Characters.\n",
        "    4. Removing Stop Words.\n",
        "    5. Stemming (Snowball Stemming)"
      ]
    },
    {
      "cell_type": "code",
      "metadata": {
        "collapsed": true,
        "id": "vGMEc8SuRdIu"
      },
      "source": [
        "#Taking the 'Text' & 'Summary' column in seperate list for further \n",
        "#text preprocessing.\n",
        "lst_text = train['Text'].tolist()\n",
        "lst_summary = train['Summary'].tolist()"
      ],
      "execution_count": null,
      "outputs": []
    },
    {
      "cell_type": "code",
      "metadata": {
        "collapsed": true,
        "id": "d3SdzrcVRdIv"
      },
      "source": [
        "test_text = test['Text'].tolist()"
      ],
      "execution_count": null,
      "outputs": []
    },
    {
      "cell_type": "markdown",
      "metadata": {
        "id": "eovsO28VRdIw"
      },
      "source": [
        "### Converting to lower-case"
      ]
    },
    {
      "cell_type": "code",
      "metadata": {
        "collapsed": true,
        "id": "_RPpGuStRdIx"
      },
      "source": [
        "#Converting the whole list to lower-case.\n",
        "lst_text = [str(item).lower() for item in lst_text]\n",
        "lst_summary = [str(item).lower() for item in lst_summary]"
      ],
      "execution_count": null,
      "outputs": []
    },
    {
      "cell_type": "code",
      "metadata": {
        "collapsed": true,
        "id": "75gqcXGARdIy"
      },
      "source": [
        "test_text = [str(item).lower() for item in test_text]"
      ],
      "execution_count": null,
      "outputs": []
    },
    {
      "cell_type": "markdown",
      "metadata": {
        "id": "WMTnE9GlRdIz"
      },
      "source": [
        "### Removing HTML Tags"
      ]
    },
    {
      "cell_type": "code",
      "metadata": {
        "collapsed": true,
        "id": "lPyD9SyoRdIz"
      },
      "source": [
        "#Lets now remove all HTML tags from the list of strings.\n",
        "import re\n",
        "def striphtml(data):\n",
        "    p = re.compile(r'<.*?>')\n",
        "    return p.sub('', data)\n",
        "\n",
        "for i in range(len(lst_text)):\n",
        "    lst_text[i] = striphtml(lst_text[i])\n",
        "    lst_summary[i] = striphtml(lst_summary[i])"
      ],
      "execution_count": null,
      "outputs": []
    },
    {
      "cell_type": "code",
      "metadata": {
        "collapsed": true,
        "id": "J6AzJum4RdI0"
      },
      "source": [
        "for i in range(len(test_text)):\n",
        "    test_text[i] = striphtml(test_text[i])"
      ],
      "execution_count": null,
      "outputs": []
    },
    {
      "cell_type": "code",
      "metadata": {
        "id": "Er-_wg5zRdI1",
        "outputId": "a225523a-5c3b-4290-e045-1430ff571cf4"
      },
      "source": [
        "lst_text[0:5]"
      ],
      "execution_count": null,
      "outputs": [
        {
          "data": {
            "text/plain": [
              "[\"this witty little book makes my son laugh at loud. i recite it in the car as we're driving along and he always can sing the refrain. he's learned about whales, india, drooping roses:  i love all the new words this book  introduces and the silliness of it all.  this is a classic book i am  willing to bet my son will still be able to recite from memory when he is  in college\",\n",
              " \"i can remember seeing the show when it aired on television years ago, when i was a child.  my sister later bought me the lp (which i have to this day,  i'm thirty something).i used this series of books &amp; songs when i did my  student teaching for preschoolers &amp; turned the whole school on to it.  i am now purchasing it on cd, along with the books for my children 5 &amp;  2.  the tradition lives on!\",\n",
              " 'beetlejuice is a well written movie ..... everything about it is excellent! from the acting to the special effects you will be delighted you chose to view this movie.',\n",
              " \"a twist of rumplestiskin captured on film, starring michael keaton and geena davis in their prime.  tim burton's masterpiece, rumbles with absurdity, and is wonderfully paced to the point where there is not a dull  moment.\",\n",
              " \"a twist of rumplestiskin captured on film, starring michael keaton and geena davis in their prime.  tim burton's masterpiece, rumbles with absurdity, and is wonderfully paced to the point where there is not a dull  moment.\"]"
            ]
          },
          "execution_count": 19,
          "metadata": {},
          "output_type": "execute_result"
        }
      ]
    },
    {
      "cell_type": "markdown",
      "metadata": {
        "id": "UFxOJtUbRdI2"
      },
      "source": [
        "### Removing Special Characters"
      ]
    },
    {
      "cell_type": "code",
      "metadata": {
        "collapsed": true,
        "id": "zSmUfug5RdI3"
      },
      "source": [
        "#Now we will remove all special characters from the strings.\n",
        "for i in range(len(lst_text)):\n",
        "    lst_text[i] = re.sub(r'[^A-Za-z]+', ' ', lst_text[i])\n",
        "    lst_summary[i] = re.sub(r'[^A-Za-z]+', ' ', lst_summary[i])"
      ],
      "execution_count": null,
      "outputs": []
    },
    {
      "cell_type": "code",
      "metadata": {
        "collapsed": true,
        "id": "afUIipTIRdI3"
      },
      "source": [
        "for i in range(len(test_text)):\n",
        "    test_text[i] = re.sub(r'[^A-Za-z]+', ' ', test_text[i])"
      ],
      "execution_count": null,
      "outputs": []
    },
    {
      "cell_type": "code",
      "metadata": {
        "id": "oMk_hi_8RdI4",
        "outputId": "b19d8d16-a3d6-4caa-ba57-c640807b7baf"
      },
      "source": [
        "lst_text[0:5]"
      ],
      "execution_count": null,
      "outputs": [
        {
          "data": {
            "text/plain": [
              "['this witty little book makes my son laugh at loud i recite it in the car as we re driving along and he always can sing the refrain he s learned about whales india drooping roses i love all the new words this book introduces and the silliness of it all this is a classic book i am willing to bet my son will still be able to recite from memory when he is in college',\n",
              " 'i can remember seeing the show when it aired on television years ago when i was a child my sister later bought me the lp which i have to this day i m thirty something i used this series of books amp songs when i did my student teaching for preschoolers amp turned the whole school on to it i am now purchasing it on cd along with the books for my children amp the tradition lives on ',\n",
              " 'beetlejuice is a well written movie everything about it is excellent from the acting to the special effects you will be delighted you chose to view this movie ',\n",
              " 'a twist of rumplestiskin captured on film starring michael keaton and geena davis in their prime tim burton s masterpiece rumbles with absurdity and is wonderfully paced to the point where there is not a dull moment ',\n",
              " 'a twist of rumplestiskin captured on film starring michael keaton and geena davis in their prime tim burton s masterpiece rumbles with absurdity and is wonderfully paced to the point where there is not a dull moment ']"
            ]
          },
          "execution_count": 22,
          "metadata": {},
          "output_type": "execute_result"
        }
      ]
    },
    {
      "cell_type": "markdown",
      "metadata": {
        "id": "yiRnC1FsRdI5"
      },
      "source": [
        "### Removing Stop Words"
      ]
    },
    {
      "cell_type": "code",
      "metadata": {
        "collapsed": true,
        "id": "OzHz_o0dRdI5"
      },
      "source": [
        "#Removing Stop Words\n",
        "from nltk.corpus import stopwords\n",
        "from nltk.tokenize import word_tokenize\n",
        "#word_tokenize accepts a string as an input, not a file.\n",
        "stop_words = set(stopwords.words('english'))\n",
        "for i in range(len(lst_text)):\n",
        "    text_filtered = []\n",
        "    summary_filtered = []\n",
        "    text_word_tokens = []\n",
        "    summary_word_tokens = []\n",
        "    text_word_tokens = lst_text[i].split()\n",
        "    summary_word_tokens = lst_summary[i].split()\n",
        "    for r in text_word_tokens:\n",
        "        if not r in stop_words:\n",
        "            text_filtered.append(r)\n",
        "    lst_text[i] = ' '.join(text_filtered)\n",
        "    for r in summary_word_tokens:\n",
        "        if not r in stop_words:\n",
        "            summary_filtered.append(r)\n",
        "    lst_summary[i] = ' '.join(summary_filtered)"
      ],
      "execution_count": null,
      "outputs": []
    },
    {
      "cell_type": "code",
      "metadata": {
        "collapsed": true,
        "id": "RXibavNARdI6"
      },
      "source": [
        "for i in range(len(test_text)):\n",
        "    text_filtered = []\n",
        "    text_word_tokens = []\n",
        "    text_word_tokens = test_text[i].split()\n",
        "    for r in text_word_tokens:\n",
        "        if not r in stop_words:\n",
        "            text_filtered.append(r)\n",
        "    test_text[i] = ' '.join(text_filtered)"
      ],
      "execution_count": null,
      "outputs": []
    },
    {
      "cell_type": "markdown",
      "metadata": {
        "id": "t_rF675DRdI6"
      },
      "source": [
        "### Stemming"
      ]
    },
    {
      "cell_type": "markdown",
      "metadata": {
        "id": "F1c0FXEkRdI7"
      },
      "source": [
        "The <b>three major stemming algorithms</b> in use today are Porter, Snowball(Porter2), and Lancaster (Paice-Husk), with the aggressiveness continuum basically following along those same lines.\n",
        "\n",
        "<b>Porter:</b> Most commonly used stemmer without a doubt, also one of the most gentle stemmers. One of the few stemmers that actually has Java support which is a plus, though it is also the most computationally intensive of the algorithms(Granted not by a very significant margin). It is also the oldest stemming algorithm by a large margin.\n",
        "\n",
        "<b>Snowball:</b> Nearly universally regarded as an improvement over porter, and for good reason. Porter himself in fact admits that it is better than his original algorithm. Slightly faster computation time than porter, with a fairly large community around it.\n",
        "\n",
        "<b>Lancaster:</b> Very aggressive stemming algorithm, sometimes to a fault. With porter and snowball, the stemmed representations are usually fairly intuitive to a reader, not so with Lancaster, as many shorter words will become totally obfuscated. The fastest algorithm here, and will reduce your working set of words hugely, but if you want more distinction, not the tool you would want."
      ]
    },
    {
      "cell_type": "markdown",
      "metadata": {
        "id": "n-YpN-KGRdI8"
      },
      "source": [
        "### Snowball Stemming"
      ]
    },
    {
      "cell_type": "code",
      "metadata": {
        "collapsed": true,
        "id": "pbWUmJoFRdI8"
      },
      "source": [
        "#Lets now stem each word.\n",
        "from nltk.stem.snowball import SnowballStemmer\n",
        "stemmer = SnowballStemmer(\"english\")\n",
        "for i in range(len(lst_text)):\n",
        "    text_filtered = []\n",
        "    summary_filtered = []\n",
        "    text_word_tokens = []\n",
        "    summary_word_tokens = []\n",
        "    text_word_tokens = lst_text[i].split()\n",
        "    summary_word_tokens = lst_summary[i].split()\n",
        "    for r in text_word_tokens:\n",
        "        text_filtered.append(str(stemmer.stem(r)))\n",
        "    lst_text[i] = ' '.join(text_filtered)\n",
        "    for r in summary_word_tokens:\n",
        "        summary_filtered.append(str(stemmer.stem(r)))\n",
        "    lst_summary[i] = ' '.join(summary_filtered)"
      ],
      "execution_count": null,
      "outputs": []
    },
    {
      "cell_type": "code",
      "metadata": {
        "collapsed": true,
        "id": "x1hXieJTRdI9"
      },
      "source": [
        "for i in range(len(test_text)):\n",
        "    text_filtered = []\n",
        "    text_word_tokens = []\n",
        "    text_word_tokens = test_text[i].split()\n",
        "    for r in text_word_tokens:\n",
        "        if not r in stop_words:\n",
        "            text_filtered.append(str(stemmer.stem(r)))\n",
        "    test_text[i] = ' '.join(text_filtered)"
      ],
      "execution_count": null,
      "outputs": []
    },
    {
      "cell_type": "code",
      "metadata": {
        "id": "3HyJhX9lRdI9",
        "outputId": "dc09635c-06b0-4bd6-bcec-d1126ad3950d"
      },
      "source": [
        "lst_text[0:5]"
      ],
      "execution_count": null,
      "outputs": [
        {
          "data": {
            "text/plain": [
              "['witti littl book make son laugh loud recit car drive along alway sing refrain learn whale india droop rose love new word book introduc silli classic book will bet son still abl recit memori colleg',\n",
              " 'rememb see show air televis year ago child sister later bought lp day thirti someth use seri book amp song student teach preschool amp turn whole school purchas cd along book children amp tradit live',\n",
              " 'beetlejuic well written movi everyth excel act special effect delight chose view movi',\n",
              " 'twist rumplestiskin captur film star michael keaton geena davi prime tim burton masterpiec rumbl absurd wonder pace point dull moment',\n",
              " 'twist rumplestiskin captur film star michael keaton geena davi prime tim burton masterpiec rumbl absurd wonder pace point dull moment']"
            ]
          },
          "execution_count": 27,
          "metadata": {},
          "output_type": "execute_result"
        }
      ]
    },
    {
      "cell_type": "code",
      "metadata": {
        "id": "FT_CWAy9RdI-",
        "outputId": "93dc035e-0a74-4c44-99e6-cda1756d8163"
      },
      "source": [
        "test_text[0:5]"
      ],
      "execution_count": null,
      "outputs": [
        {
          "data": {
            "text/plain": [
              "['love make smoothi chocol protein powder peanut butter banana pb drove calori way calori tbsp pb powder calori tbsp tast realli great',\n",
              " 'smooth impli weak robust impli bitter neither true negat true wonder complex simpl cup joe pleas',\n",
              " 'alway hate instant oatmeal like old fashion thick cut roll oat like steel cut whenev tri instant version oatmeal past found entir ined thin wateri textur real oatmeal flavor mcdougal oatmeal cup close real thing bare differ initi tri order pack favorit flavor realli happi breakfast everi morn oatmeal tea issu small amount soy use fresh prefer use someth els least sure soy organ find coupl rancid cup batch need sure fresh overal great product though',\n",
              " 'tri creamer like caramel flavor coffe like creamer whether like matter person prefer detect caramel tast one sip enough due overwhelm sweet tast like someon drop dozen tablespoon sugar coffe like extrem sweet coffe care caramel flavor might like product main want caramel flavor would better caramel syrup flavor coffe bean',\n",
              " 'recommend pretti savvi dog owner third larg bag purchas incred price dog healthi rin tin tin']"
            ]
          },
          "execution_count": 28,
          "metadata": {},
          "output_type": "execute_result"
        }
      ]
    },
    {
      "cell_type": "markdown",
      "metadata": {
        "id": "hS4-Ppr5RdI-"
      },
      "source": [
        "## STEP-3: Vectorizing our dataset"
      ]
    },
    {
      "cell_type": "markdown",
      "metadata": {
        "id": "d_rYbhsQRdI_"
      },
      "source": [
        "\n",
        "\n",
        "From the scikit-learn documentation:\n",
        "\n",
        "    Text Analysis is a major application field for machine learning algorithms. However the raw data, a sequence of symbols cannot be fed directly to the algorithms themselves as most of them expect numerical feature vectors with a fixed size rather than the raw text documents with variable length.\n",
        "    \n",
        "    We call vectorization the general process of turning a collection of text documents into numerical feature vectors. This specific strategy (tokenization, counting and normalization) is called the Bag of Words or \"Bag of n-grams\" representation. Documents are described by word occurrences while completely ignoring the relative position information of the words in the document.\n",
        "\n",
        "We will use CountVectorizer to \"convert text into a matrix of token counts\"."
      ]
    },
    {
      "cell_type": "code",
      "metadata": {
        "collapsed": true,
        "id": "As_2XeOaRdI_"
      },
      "source": [
        "from sklearn.feature_extraction.text import CountVectorizer\n",
        "\n",
        "# Initialize the \"CountVectorizer\" object, which is scikit-learn's\n",
        "# bag of words tool.\n",
        "vect = CountVectorizer()\n",
        "# fit_transform() does two functions: First, it fits the model\n",
        "# and learns the vocabulary; second, it transforms our training data\n",
        "# into feature vectors. The input to fit_transform should be a list of \n",
        "# strings.\n",
        "X_train_dtm = vect.fit_transform(lst_text)\n",
        "# Numpy arrays are easy to work with, so convert the result to an \n",
        "# array\n",
        "#train_data_features = train_data_features.toarray()"
      ],
      "execution_count": null,
      "outputs": []
    },
    {
      "cell_type": "code",
      "metadata": {
        "id": "Q2cwLD7WRdJA",
        "outputId": "598da56a-9890-4aa5-c646-39693a342299"
      },
      "source": [
        "# examine the document-term matrix\n",
        "X_train_dtm"
      ],
      "execution_count": null,
      "outputs": [
        {
          "data": {
            "text/plain": [
              "<368864x71178 sparse matrix of type '<type 'numpy.int64'>'\n",
              "\twith 11579336 stored elements in Compressed Sparse Row format>"
            ]
          },
          "execution_count": 30,
          "metadata": {},
          "output_type": "execute_result"
        }
      ]
    },
    {
      "cell_type": "markdown",
      "metadata": {
        "id": "iWE_QXNtRdJA"
      },
      "source": [
        "In order to <b>make a prediction</b>, the new observation <b>must have the same features as the training observations</b>, both in number and meaning."
      ]
    },
    {
      "cell_type": "code",
      "metadata": {
        "scrolled": true,
        "id": "vz4J1WiQRdJA",
        "outputId": "bde56a41-5276-46af-cac8-464c9ef6fdc6"
      },
      "source": [
        "# transform testing data (using fitted vocabulary) into a document-term matrix\n",
        "X_test_dtm = vect.transform(test_text)\n",
        "X_test_dtm"
      ],
      "execution_count": null,
      "outputs": [
        {
          "data": {
            "text/plain": [
              "<156950x71178 sparse matrix of type '<type 'numpy.int64'>'\n",
              "\twith 5017739 stored elements in Compressed Sparse Row format>"
            ]
          },
          "execution_count": 31,
          "metadata": {},
          "output_type": "execute_result"
        }
      ]
    },
    {
      "cell_type": "markdown",
      "metadata": {
        "id": "zXyIBqevRdJB"
      },
      "source": [
        "<b>Summary:</b>\n",
        "<ul>\n",
        "    <li> <code>vect.fit(lst_text)</code> <b>learns the vocabulary</b> of the training data\n",
        "    <li> <code>vect.transform(lst_text)</code> <b>uses the fitted vocabulary</b> to build a <b>document-term matrix</b> from the training data\n",
        "    <li> <code>vect.transform(test_text)</code> <b>uses the fitted vocabulary</b> to build a document-term matrix from the testing data (and <b>ignores tokens</b> it hasn't seen before)\n",
        "</ul>\n",
        "\n"
      ]
    },
    {
      "cell_type": "markdown",
      "metadata": {
        "id": "lgblmhdyRdJC"
      },
      "source": [
        "## STEP-4: Building and evaluating the model"
      ]
    },
    {
      "cell_type": "markdown",
      "metadata": {
        "id": "w1U812KeRdJC"
      },
      "source": [
        "### Models"
      ]
    },
    {
      "cell_type": "markdown",
      "metadata": {
        "id": "-poRtKeeRdJC"
      },
      "source": [
        "Here we will be implementing various models and comparing their accuracies. We would be implementing below mentioned machine learning algorithms:\n",
        "<ul>\n",
        "<li>Naive Bayes\n",
        "<li>Logistic Regression - with L1 regularizors\n",
        "</ul>"
      ]
    },
    {
      "cell_type": "markdown",
      "metadata": {
        "id": "AeJkMsu4RdJD"
      },
      "source": [
        "### Evaluation Metrics"
      ]
    },
    {
      "cell_type": "markdown",
      "metadata": {
        "id": "v9Llz5NVRdJD"
      },
      "source": [
        "<b>What is the Confusion Mattix?</b><br />\n",
        "A confusion matrix is a table that is often used to describe the performance of a classification model (or \"classifier\") on a set of test data for which the true values are known. The confusion matrix itself is relatively simple to understand, but the related terminology can be confusing.<br />\n",
        "<img src=\"con_matrix.png\" />\n",
        "\n",
        "Let's now define the most basic terms, which are whole numbers (not rates):<br />\n",
        "<pre>\n",
        "    <b>true positives (TP)</b>: These are cases in which we predicted yes (they have the disease), and they do have the disease.\n",
        "    <b>true negatives (TN)</b>: We predicted no, and they don't have the disease.\n",
        "    <b>false positives (FP)</b>: We predicted yes, but they don't actually have the disease. (Also known as a \"Type I error.\")\n",
        "    <b>false negatives (FN)</b>: We predicted no, but they actually do have the disease. (Also known as a \"Type II error.\")\n",
        "</pre>\n",
        "<br /><br />\n",
        "Various Evaluation metrics are:<br />\n",
        "<b>Accuracy</b>: Overall, how often is the classifier correct? Accuracy works best if false positives and false negatives have similar cost. This fails in case of imbalanced dataset. For that we have other metrics, like Precision and Recall.<br />\n",
        "Accuracy = TP+TN/TP+FP+FN+TN\n",
        "<br />\n",
        "<b>True Positive Rate</b>: When it's actually yes, how often does it predict yes? Also known as \"Sensitivity\" or <b>\"Recall\"</b><br />\n",
        "<b>False Positive Rate</b>: When it's actually no, how often does it predict yes?<br />\n",
        "<b>F1 Score</b>: This is a weighted average of the true positive rate (recall) and precision.<br />\n",
        "<b>ROC Curve</b>: This is a commonly used graph that summarizes the performance of a classifier over all possible thresholds. It is generated by plotting the True Positive Rate (y-axis) against the False Positive Rate (x-axis) as you vary the threshold for assigning observations to a given class. <br />\n",
        "<b>Log-loss</b>: It is usefull in comparing two models. For a perfect Classifier log-loss=0. For a incorrect classifier log-loss=infinity.<br />\n",
        "\n",
        "<b>Precision (P)</b> is defined as the number of true positives (TP) over the number of true positives plus the number of false positives (FP).<br />\n",
        "Precision = TP/TP+FP\n",
        "\n",
        "<b>Recall (R)</b> is defined as the number of true positives (TP) over the number of true positives plus the number of false negatives (FP).<br />\n",
        "Recall = TP/TP+FN\n",
        "\n",
        "These quantities are also related to the <b>F1 score</b>, which is defined as the harmonic mean of precision and recall. Intuitively it is not as easy to understand as accuracy, but F1 is usually more useful than accuracy, especially if you have an uneven class distribution.<br />\n",
        "F1 Score = 2*(Recall * Precision) / (Recall + Precision)\n",
        "\n",
        "Precision-Recall is a useful measure of success of prediction when the classes are very imbalanced. In information retrieval, precision is a measure of result relevancy, while recall is a measure of how many truly relevant results are returned. Note the below mentioned points: <br />\n",
        "<ul>\n",
        "<li>High scores for both show that the classifier is returning accurate results (high precision), as well as returning a majority of all positive results (high recall).<br />\n",
        "<li>A system with high recall but low precision returns many results, but most of its predicted labels are incorrect when compared to the training labels. <br />\n",
        "<li>A system with high precision but low recall is just the opposite, returning very few results, but most of its predicted labels are correct when compared to the training labels. <br />\n",
        "<li>An ideal system with high precision and high recall will return many results, with all results labeled correctly.<br />\n",
        "</ul>"
      ]
    },
    {
      "cell_type": "markdown",
      "metadata": {
        "id": "H7TFSgpjRdJF"
      },
      "source": [
        "### Multinomial Naive Bayes"
      ]
    },
    {
      "cell_type": "markdown",
      "metadata": {
        "id": "4IRmp1eoRdJG"
      },
      "source": [
        "We will use <b>Multinomial Naive Bayes</b>:\n",
        "\n",
        "The multinomial Naive Bayes classifier is suitable for classification with discrete features (e.g., word counts for text classification). The multinomial distribution normally requires integer feature counts. However, in practice, fractional counts such as tf-idf may also work.\n"
      ]
    },
    {
      "cell_type": "code",
      "metadata": {
        "collapsed": true,
        "id": "tUpDpFuzRdJG"
      },
      "source": [
        "# import and instantiate a Multinomial Naive Bayes model\n",
        "from sklearn.naive_bayes import MultinomialNB\n",
        "nb = MultinomialNB()"
      ],
      "execution_count": null,
      "outputs": []
    },
    {
      "cell_type": "code",
      "metadata": {
        "id": "ydmwtLYeRdJH",
        "outputId": "d5c257d8-3865-477c-edcb-6840f8e5517e"
      },
      "source": [
        "# train the model using X_train_dtm (timing it with an IPython \n",
        "#\"magic command\")\n",
        "%time nb.fit(X_train_dtm, train.Score)"
      ],
      "execution_count": null,
      "outputs": [
        {
          "name": "stdout",
          "output_type": "stream",
          "text": [
            "Wall time: 157 ms\n"
          ]
        },
        {
          "data": {
            "text/plain": [
              "MultinomialNB(alpha=1.0, class_prior=None, fit_prior=True)"
            ]
          },
          "execution_count": 33,
          "metadata": {},
          "output_type": "execute_result"
        }
      ]
    },
    {
      "cell_type": "code",
      "metadata": {
        "collapsed": true,
        "id": "GSDeNoiVRdJI"
      },
      "source": [
        "# make class predictions for X_test_dtm\n",
        "y_pred_class_nb = nb.predict(X_test_dtm)"
      ],
      "execution_count": null,
      "outputs": []
    },
    {
      "cell_type": "code",
      "metadata": {
        "id": "r0d4EcEvRdJI",
        "outputId": "36530830-1636-4ac0-e16a-5dc5d8289733"
      },
      "source": [
        "# calculate accuracy of class predictions\n",
        "from sklearn import metrics\n",
        "metrics.accuracy_score(test.Score, y_pred_class_nb)"
      ],
      "execution_count": null,
      "outputs": [
        {
          "data": {
            "text/plain": [
              "0.89497929276839761"
            ]
          },
          "execution_count": 35,
          "metadata": {},
          "output_type": "execute_result"
        }
      ]
    },
    {
      "cell_type": "code",
      "metadata": {
        "id": "iUM0Kv01RdJJ",
        "outputId": "a9fb52ce-3c3c-480f-d1e1-e68a4cc61f6b"
      },
      "source": [
        "# print the confusion matrix\n",
        "con_metrics_nb = metrics.confusion_matrix(test.Score, y_pred_class_nb)\n",
        "con_metrics_nb"
      ],
      "execution_count": null,
      "outputs": [
        {
          "data": {
            "text/plain": [
              "array([[ 17759,   9110],\n",
              "       [  7373, 122708]])"
            ]
          },
          "execution_count": 36,
          "metadata": {},
          "output_type": "execute_result"
        }
      ]
    },
    {
      "cell_type": "code",
      "metadata": {
        "scrolled": false,
        "id": "h2ZAhR9RRdJJ",
        "outputId": "8ae11e75-082d-47f3-d318-136f7a24c3fa"
      },
      "source": [
        "#ploting heatmap for confusion matrix\n",
        "import seaborn as sns\n",
        "import matplotlib.pyplot as plt\n",
        "sns.heatmap(con_metrics_nb, annot=True, fmt='d')\n",
        "plt.title(\"Confusion Matrix: Naive Bayes\")\n",
        "plt.show()"
      ],
      "execution_count": null,
      "outputs": [
        {
          "data": {
            "image/png": "[encoded data removed]",
            "text/plain": [
              "<matplotlib.figure.Figure at 0x17db5c18>"
            ]
          },
          "metadata": {},
          "output_type": "display_data"
        }
      ]
    },
    {
      "cell_type": "code",
      "metadata": {
        "id": "ahLw70BxRdJK",
        "outputId": "604a0928-de1e-467a-fdf4-ff167d545c0c"
      },
      "source": [
        "#Checking Precision, Recall and F1 Score\n",
        "print metrics.classification_report(test.Score, y_pred_class_nb)"
      ],
      "execution_count": null,
      "outputs": [
        {
          "name": "stdout",
          "output_type": "stream",
          "text": [
            "             precision    recall  f1-score   support\n",
            "\n",
            "          0       0.71      0.66      0.68     26869\n",
            "          1       0.93      0.94      0.94    130081\n",
            "\n",
            "avg / total       0.89      0.89      0.89    156950\n",
            "\n"
          ]
        }
      ]
    },
    {
      "cell_type": "code",
      "metadata": {
        "collapsed": true,
        "id": "lkrEVutQRdJL"
      },
      "source": [
        "# calculate predicted probabilities for X_test_dtm (poorly calibrated)\n",
        "#y_pred_prob = nb.predict_proba(X_test_dtm)[:, 1]\n",
        "#y_pred_prob"
      ],
      "execution_count": null,
      "outputs": []
    },
    {
      "cell_type": "code",
      "metadata": {
        "id": "fgSsxf_7RdJL",
        "outputId": "07ade720-de9f-4776-9276-708d1a02821d"
      },
      "source": [
        "# calculate AUC - Method 1\n",
        "false_positive_rate, true_positive_rate, thresholds = metrics.roc_curve(test.Score, y_pred_class_nb)\n",
        "print metrics.auc(false_positive_rate, true_positive_rate)"
      ],
      "execution_count": null,
      "outputs": [
        {
          "name": "stdout",
          "output_type": "stream",
          "text": [
            "0.802133745906\n"
          ]
        }
      ]
    },
    {
      "cell_type": "code",
      "metadata": {
        "scrolled": true,
        "id": "IHzJHNF7RdJM",
        "outputId": "44aeb3bc-1595-4083-e9cc-028d4ce19206"
      },
      "source": [
        "# calculate AUC _ Method - 2\n",
        "auc_nb = metrics.roc_auc_score(test.Score, y_pred_class_nb)\n",
        "print(auc_nb)"
      ],
      "execution_count": null,
      "outputs": [
        {
          "name": "stdout",
          "output_type": "stream",
          "text": [
            "0.802133745906\n"
          ]
        }
      ]
    },
    {
      "cell_type": "code",
      "metadata": {
        "id": "jus7lUrvRdJM",
        "outputId": "42164e69-a024-4368-8f33-27249aab3de0"
      },
      "source": [
        "#Plotting Area Under the Curve\n",
        "plt.plot(false_positive_rate,true_positive_rate,label=\"Naive Bayes, AUC=\"+str(auc_nb))\n",
        "plt.plot([0,1],[0,1],'r--')\n",
        "plt.title('ROC curve: Naive Bayes')\n",
        "plt.legend(loc='lower right')\n",
        "plt.ylabel('True Positive Rate')\n",
        "plt.xlabel('False Positive Rate')\n",
        "plt.show()"
      ],
      "execution_count": null,
      "outputs": [
        {
          "data": {
            "image/png": "[encoded data removed]",
            "text/plain": [
              "<matplotlib.figure.Figure at 0x23103f60>"
            ]
          },
          "metadata": {},
          "output_type": "display_data"
        }
      ]
    },
    {
      "cell_type": "code",
      "metadata": {
        "id": "WbIUWqLPRdJN",
        "outputId": "e06f5d3a-99a8-450e-9d3c-ddd291c7edaa"
      },
      "source": [
        "#Calculating Log-Loss\n",
        "metrics.log_loss(test.Score, y_pred_class_nb)"
      ],
      "execution_count": null,
      "outputs": [
        {
          "data": {
            "text/plain": [
              "3.6273331357113858"
            ]
          },
          "execution_count": 43,
          "metadata": {},
          "output_type": "execute_result"
        }
      ]
    },
    {
      "cell_type": "markdown",
      "metadata": {
        "id": "8lMcFTATRdJT"
      },
      "source": [
        "### Logistic Regression with L1 Regularizor"
      ]
    },
    {
      "cell_type": "code",
      "metadata": {
        "collapsed": true,
        "id": "OnKpJ8aORdJT"
      },
      "source": [
        "# import and instantiate a logistic regression model\n",
        "from sklearn.linear_model import LogisticRegression\n",
        "logreg_l1 = LogisticRegression(penalty='l1')"
      ],
      "execution_count": null,
      "outputs": []
    },
    {
      "cell_type": "code",
      "metadata": {
        "id": "rsaOHPLtRdJU",
        "outputId": "1ca21afd-6576-48ea-d597-08b3b0597b26"
      },
      "source": [
        "# train the model using X_train_dtm\n",
        "%time logreg_l1.fit(X_train_dtm, train.Score)"
      ],
      "execution_count": null,
      "outputs": [
        {
          "name": "stdout",
          "output_type": "stream",
          "text": [
            "Wall time: 15.3 s\n"
          ]
        },
        {
          "data": {
            "text/plain": [
              "LogisticRegression(C=1.0, class_weight=None, dual=False, fit_intercept=True,\n",
              "          intercept_scaling=1, max_iter=100, multi_class='ovr', n_jobs=1,\n",
              "          penalty='l1', random_state=None, solver='liblinear', tol=0.0001,\n",
              "          verbose=0, warm_start=False)"
            ]
          },
          "execution_count": 55,
          "metadata": {},
          "output_type": "execute_result"
        }
      ]
    },
    {
      "cell_type": "code",
      "metadata": {
        "collapsed": true,
        "id": "VtkH__0PRdJU"
      },
      "source": [
        "# make class predictions for X_test_dtm\n",
        "y_pred_class_l1 = logreg_l1.predict(X_test_dtm)"
      ],
      "execution_count": null,
      "outputs": []
    },
    {
      "cell_type": "code",
      "metadata": {
        "id": "AFqT8quJRdJV",
        "outputId": "4f596383-7154-4ff4-f3e1-98a349a505a8"
      },
      "source": [
        "# calculate accuracy\n",
        "metrics.accuracy_score(test.Score, y_pred_class_l1)"
      ],
      "execution_count": null,
      "outputs": [
        {
          "data": {
            "text/plain": [
              "0.9137878305192737"
            ]
          },
          "execution_count": 57,
          "metadata": {},
          "output_type": "execute_result"
        }
      ]
    },
    {
      "cell_type": "code",
      "metadata": {
        "id": "uTpH5iuNRdJW",
        "outputId": "0b539960-2e66-4479-ae93-8d0b1a025375"
      },
      "source": [
        "# print the confusion matrix\n",
        "con_metrics_l1 = metrics.confusion_matrix(test.Score, y_pred_class_l1)\n",
        "con_metrics_l1"
      ],
      "execution_count": null,
      "outputs": [
        {
          "data": {
            "text/plain": [
              "array([[ 17911,   8958],\n",
              "       [  4573, 125508]])"
            ]
          },
          "execution_count": 58,
          "metadata": {},
          "output_type": "execute_result"
        }
      ]
    },
    {
      "cell_type": "code",
      "metadata": {
        "id": "ujDioL91RdJX",
        "outputId": "f6d143b7-669d-4419-eb05-18f321fa62f1"
      },
      "source": [
        "#ploting heatmap for confusion matrix\n",
        "sns.heatmap(con_metrics_l1, annot=True, fmt='d')\n",
        "plt.title(\"Confusion Matrix: Logistic Regression with L1 Regularizor\")\n",
        "plt.show()"
      ],
      "execution_count": null,
      "outputs": [
        {
          "data": {
            "image/png": "[encoded data removed]",
            "text/plain": [
              "<matplotlib.figure.Figure at 0x29094a58>"
            ]
          },
          "metadata": {},
          "output_type": "display_data"
        }
      ]
    },
    {
      "cell_type": "code",
      "metadata": {
        "id": "VnqK62V9RdJZ",
        "outputId": "ba3bd323-9478-40b2-d40c-2d6eca4f30aa"
      },
      "source": [
        "#Checking Precision, Recall and F1 Score\n",
        "print metrics.classification_report(test.Score, y_pred_class_l1)"
      ],
      "execution_count": null,
      "outputs": [
        {
          "name": "stdout",
          "output_type": "stream",
          "text": [
            "             precision    recall  f1-score   support\n",
            "\n",
            "          0       0.80      0.67      0.73     26869\n",
            "          1       0.93      0.96      0.95    130081\n",
            "\n",
            "avg / total       0.91      0.91      0.91    156950\n",
            "\n"
          ]
        }
      ]
    },
    {
      "cell_type": "code",
      "metadata": {
        "id": "0d-5WQQNRdJZ",
        "outputId": "f09e63b2-a252-4d4c-857a-034239b09786"
      },
      "source": [
        "# calculate AUC\n",
        "auc_l1 = metrics.roc_auc_score(test.Score, y_pred_class_l1)\n",
        "print(auc_l1)"
      ],
      "execution_count": null,
      "outputs": [
        {
          "name": "stdout",
          "output_type": "stream",
          "text": [
            "0.815724809259\n"
          ]
        }
      ]
    },
    {
      "cell_type": "code",
      "metadata": {
        "id": "G15c7hNVRdJa",
        "outputId": "d4dfb8ee-1122-49df-8462-e57c5f3657da"
      },
      "source": [
        "#Plotting Area Under the Curve\n",
        "false_positive_rate, true_positive_rate, thresholds = metrics.roc_curve(test.Score, y_pred_class_l1)\n",
        "plt.plot(false_positive_rate,true_positive_rate,label=\"L1, AUC=\"+str(auc_l1))\n",
        "plt.plot([0,1],[0,1],'r--')\n",
        "plt.title('ROC curve: Logistic Regression with L1 Regularizor')\n",
        "plt.legend(loc='lower right')\n",
        "plt.ylabel('True Positive Rate')\n",
        "plt.xlabel('False Positive Rate')\n",
        "plt.show()"
      ],
      "execution_count": null,
      "outputs": [
        {
          "data": {
            "image/png": "[encoded data removed]",
            "text/plain": [
              "<matplotlib.figure.Figure at 0x2fb0e278>"
            ]
          },
          "metadata": {},
          "output_type": "display_data"
        }
      ]
    },
    {
      "cell_type": "code",
      "metadata": {
        "id": "bpKw5OsDRdJb",
        "outputId": "8d284f5d-f696-4ce6-ff89-f0cc56b80443"
      },
      "source": [
        "#Calculating Log-Loss\n",
        "metrics.log_loss(test.Score, y_pred_class_l1)"
      ],
      "execution_count": null,
      "outputs": [
        {
          "data": {
            "text/plain": [
              "2.9777084816394788"
            ]
          },
          "execution_count": 73,
          "metadata": {},
          "output_type": "execute_result"
        }
      ]
    }
  ]
}